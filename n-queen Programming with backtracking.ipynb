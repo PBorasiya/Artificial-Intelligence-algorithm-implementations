{
 "cells": [
  {
   "cell_type": "markdown",
   "metadata": {},
   "source": [
    "## Assignment 2, 22-Queen Programming"
   ]
  },
  {
   "cell_type": "markdown",
   "metadata": {},
   "source": [
    "Your homework must be implemented in this Notebook file. \n",
    "You can add as many cells as you want. However, you are not allowed to touch the code below the line \"=============\".\n"
   ]
  },
  {
   "cell_type": "code",
   "execution_count": 46,
   "metadata": {},
   "outputs": [],
   "source": [
    "\"\"\"n = int(input(\"Number of queens? :->\"))\"\"\"\n",
    "n = 22"
   ]
  },
  {
   "cell_type": "code",
   "execution_count": 47,
   "metadata": {},
   "outputs": [],
   "source": [
    "def print_result(queens,n):\n",
    "    for i in range(n):\n",
    "        print('(',i,',',queens[i],')', end='')\n",
    "\n",
    "    print('\\n');"
   ]
  },
  {
   "cell_type": "code",
   "execution_count": 48,
   "metadata": {},
   "outputs": [
    {
     "name": "stdout",
     "output_type": "stream",
     "text": [
      "( 0 , 0 )( 1 , 2 )( 2 , 4 )( 3 , 1 )( 4 , 3 )( 5 , 9 )( 6 , 13 )( 7 , 16 )( 8 , 19 )( 9 , 12 )( 10 , 18 )( 11 , 21 )( 12 , 17 )( 13 , 7 )( 14 , 20 )( 15 , 11 )( 16 , 8 )( 17 , 5 )( 18 , 15 )( 19 , 6 )( 20 , 10 )( 21 , 14 )\n",
      "\n",
      "( 0 , 0 )( 1 , 2 )( 2 , 4 )( 3 , 1 )( 4 , 3 )( 5 , 9 )( 6 , 13 )( 7 , 18 )( 8 , 14 )( 9 , 17 )( 10 , 20 )( 11 , 16 )( 12 , 21 )( 13 , 10 )( 14 , 7 )( 15 , 5 )( 16 , 19 )( 17 , 11 )( 18 , 6 )( 19 , 15 )( 20 , 12 )( 21 , 8 )\n",
      "\n",
      "( 0 , 0 )( 1 , 2 )( 2 , 4 )( 3 , 1 )( 4 , 3 )( 5 , 9 )( 6 , 13 )( 7 , 18 )( 8 , 16 )( 9 , 14 )( 10 , 19 )( 11 , 21 )( 12 , 15 )( 13 , 7 )( 14 , 20 )( 15 , 6 )( 16 , 12 )( 17 , 5 )( 18 , 8 )( 19 , 11 )( 20 , 17 )( 21 , 10 )\n",
      "\n",
      "( 0 , 0 )( 1 , 2 )( 2 , 4 )( 3 , 1 )( 4 , 3 )( 5 , 9 )( 6 , 14 )( 7 , 17 )( 8 , 19 )( 9 , 12 )( 10 , 15 )( 11 , 18 )( 12 , 21 )( 13 , 6 )( 14 , 20 )( 15 , 7 )( 16 , 10 )( 17 , 13 )( 18 , 5 )( 19 , 16 )( 20 , 8 )( 21 , 11 )\n",
      "\n",
      "( 0 , 0 )( 1 , 2 )( 2 , 4 )( 3 , 1 )( 4 , 3 )( 5 , 9 )( 6 , 14 )( 7 , 19 )( 8 , 17 )( 9 , 20 )( 10 , 13 )( 11 , 21 )( 12 , 18 )( 13 , 6 )( 14 , 8 )( 15 , 12 )( 16 , 5 )( 17 , 7 )( 18 , 10 )( 19 , 15 )( 20 , 11 )( 21 , 16 )\n",
      "\n",
      "( 0 , 0 )( 1 , 2 )( 2 , 4 )( 3 , 1 )( 4 , 3 )( 5 , 9 )( 6 , 15 )( 7 , 13 )( 8 , 18 )( 9 , 16 )( 10 , 21 )( 11 , 19 )( 12 , 17 )( 13 , 10 )( 14 , 5 )( 15 , 7 )( 16 , 12 )( 17 , 20 )( 18 , 6 )( 19 , 8 )( 20 , 14 )( 21 , 11 )\n",
      "\n"
     ]
    },
    {
     "data": {
      "text/plain": [
       "True"
      ]
     },
     "execution_count": 48,
     "metadata": {},
     "output_type": "execute_result"
    }
   ],
   "source": [
    "def check(queens,x,y):\n",
    "    for i in range(x):\n",
    "        if queens[i] == y :\n",
    "            return False\n",
    "        if (i-queens[i]) == (x-y) :\n",
    "            return False\n",
    "        if (i+queens[i]) == (x+y) :\n",
    "            return False\n",
    "    return True\n",
    "\n",
    "count = 0\n",
    "\n",
    "def solveNQ(queens,x,n):\n",
    "    global count\n",
    "    for y in range(n):\n",
    "        if check(queens,x,y):\n",
    "            queens[x]=y;\n",
    "            if x==n-1:\n",
    "                if count<6:\n",
    "                    print_result(queens, n)\n",
    "                    count += 1\n",
    "                else:\n",
    "                    return True\n",
    "            if solveNQ(queens,x+1,n):\n",
    "                return True\n",
    "    return False\n",
    "\n",
    "\n",
    "\n",
    "queens = [0 for x in range(n)]\n",
    "solveNQ(queens,0,n)\n"
   ]
  },
  {
   "cell_type": "markdown",
   "metadata": {},
   "source": [
    "You can insert as many cells as you want above\n",
    "You are not Allowed to modify the code below this line.\n",
    "==============================="
   ]
  },
  {
   "cell_type": "code",
   "execution_count": null,
   "metadata": {
    "collapsed": true
   },
   "outputs": [],
   "source": [
    "#you need to implement print_result function to print out the result according to the required format\n",
    "print_result(result)"
   ]
  },
  {
   "cell_type": "markdown",
   "metadata": {},
   "source": [
    "\n",
    "The output format should be as follows. You only need to give 4 solutions in the following format.\n",
    "Example Output for 4-queens Problem. Each pair of values represents the position of a queen (row, column)\n",
    "\n",
    "(0,1) (1,3) (2,0) (3,2)\n",
    "\n",
    "(0,2) (1,0) (2,3) (3,1)\n",
    "\n",
    "\n"
   ]
  }
 ],
 "metadata": {
  "anaconda-cloud": {},
  "kernelspec": {
   "display_name": "Python 3",
   "language": "python",
   "name": "python3"
  },
  "language_info": {
   "codemirror_mode": {
    "name": "ipython",
    "version": 3
   },
   "file_extension": ".py",
   "mimetype": "text/x-python",
   "name": "python",
   "nbconvert_exporter": "python",
   "pygments_lexer": "ipython3",
   "version": "3.6.4"
  }
 },
 "nbformat": 4,
 "nbformat_minor": 1
}
